{
 "cells": [
  {
   "cell_type": "markdown",
   "metadata": {
    "toc": true
   },
   "source": [
    "<h1>Table of Contents<span class=\"tocSkip\"></span></h1>\n",
    "<div class=\"toc\"><ul class=\"toc-item\"><li><span><a href=\"#CS152-Assignment-1:-The-8-puzzle\" data-toc-modified-id=\"CS152-Assignment-1:-The-8-puzzle-1\"><span class=\"toc-item-num\">1&nbsp;&nbsp;</span>CS152 Assignment 1: The 8-puzzle</a></span></li><li><span><a href=\"#Extension-Questions\" data-toc-modified-id=\"Extension-Questions-2\"><span class=\"toc-item-num\">2&nbsp;&nbsp;</span>Extension Questions</a></span></li><li><span><a href=\"#\n",
    "Question-1----\n",
    "\" data-toc-modified-id=\"\n",
    "Question-1----\n",
    "-3\"><span class=\"toc-item-num\">3&nbsp;&nbsp;</span>\n",
    "Question 1    \n",
    "</a></span></li><li><span><a href=\"#\n",
    "Question-2----\n",
    "\" data-toc-modified-id=\"\n",
    "Question-2----\n",
    "-4\"><span class=\"toc-item-num\">4&nbsp;&nbsp;</span>\n",
    "Question 2    \n",
    "</a></span></li><li><span><a href=\"#\n",
    "Question-3----\n",
    "\" data-toc-modified-id=\"\n",
    "Question-3----\n",
    "-5\"><span class=\"toc-item-num\">5&nbsp;&nbsp;</span>\n",
    "Question 3    \n",
    "</a></span></li><li><span><a href=\"#Basic-Functionality-Tests\" data-toc-modified-id=\"Basic-Functionality-Tests-6\"><span class=\"toc-item-num\">6&nbsp;&nbsp;</span>Basic Functionality Tests</a></span></li><li><span><a href=\"#Extension-Tests\" data-toc-modified-id=\"Extension-Tests-7\"><span class=\"toc-item-num\">7&nbsp;&nbsp;</span>Extension Tests</a></span></li></ul></div>"
   ]
  },
  {
   "cell_type": "markdown",
   "metadata": {},
   "source": [
    "<h1>CS152 Assignment 1: The 8-puzzle</h1>\n",
    "\n",
    "Before you turn in this assignment, make sure everything runs as expected. First, **restart the kernel** (in the menubar, select Kernel$\\rightarrow$Restart) and then run the test cells for each of the questions you have answered.  Note that a grade of 3 for the A* implementation requires all tests in the \"Basic Functionality\" section to be passed.  The test cells pass if they execute with no errors (i.e. all the assertions are passed).\n",
    "\n",
    "Make sure you fill in any place that says `YOUR CODE HERE`.  Be sure to remove the `raise NotImplementedError()` statements as you implement your code - these are simply there as a reminder if you forget to add code where it's needed."
   ]
  },
  {
   "cell_type": "markdown",
   "metadata": {},
   "source": [
    "---"
   ]
  },
  {
   "cell_type": "code",
   "execution_count": 1,
   "metadata": {
    "ExecuteTime": {
     "end_time": "2020-02-21T23:53:13.656272Z",
     "start_time": "2020-02-21T23:53:13.532144Z"
    }
   },
   "outputs": [],
   "source": [
    "import numpy as np"
   ]
  },
  {
   "cell_type": "markdown",
   "metadata": {
    "deletable": false,
    "editable": false,
    "nbgrader": {
     "cell_type": "markdown",
     "checksum": "93712bce8426499023ace13735ea998d",
     "grade": false,
     "grade_id": "cell-3fc6e687e03655a1",
     "locked": true,
     "schema_version": 3,
     "solution": false,
     "task": false
    }
   },
   "source": [
    "<h1>Extension Questions</h1>\n",
    "\n",
    "The extensions can be implemented by modifying the code from Q2-3 above appropriately.\n",
    "\n",
    "1. <b>Initial state solvability:</b>  Modify your SolvePuzzle function code in Q3 to return -2 if an initial state is not solvable to the goal state.\n",
    "2. <b>Extra heuristic function:</b> Add another heuristic function (e.g. pattern database) that dominates the misplaced tiles and Manhattan distance heuristics to your Q2 code.\n",
    "3. <b>Memoization:</b>  Modify your heuristic function definitions in Q2 by using a Python decorator to speed up heuristic function evaluation\n",
    "\n",
    "There are test cells provided for extension questions 1 and 2."
   ]
  },
  {
   "cell_type": "code",
   "execution_count": 2,
   "metadata": {
    "ExecuteTime": {
     "end_time": "2020-02-21T23:53:13.680948Z",
     "start_time": "2020-02-21T23:53:13.660802Z"
    }
   },
   "outputs": [],
   "source": [
    "def solvability_test(state):\n",
    "    \"\"\"\n",
    "    Tests if a given input array is solvable based on the number of\n",
    "    inversions on the board and the board size. Returns a boolean value.\n",
    "    Solution adapted from: https://datawookie.netlify.com/blog/2019/04/\n",
    "                           sliding-puzzle-solvable/\n",
    "    With the extension rules from: https://www.cs.bham.ac.uk/~mdr/\n",
    "                           teaching/modules04/java2/TilesSolvability.html\n",
    "    \n",
    "    Input:\n",
    "        state (arr) Input state array as a list of lists.\n",
    "        \n",
    "    - If the grid width is odd, then the number of inversions in a\n",
    "      solvable situation is even.\n",
    "    - If the grid width is even, and the blank is on an even row counting\n",
    "      from the bottom (second-last, fourth-last etc), then the number of\n",
    "      inversions in a solvable situation is odd.\n",
    "    - If the grid width is even, and the blank is on an odd row\n",
    "      counting from the bottom (last, third-last, fifth-last etc)\n",
    "      then the number of inversions in a solvable situation is even.\n",
    "    \"\"\"\n",
    "    inversion_count = 0\n",
    "    n = len(state)\n",
    "    n_tiles = (len(state) ** 2)\n",
    "    \n",
    "    #reshaping the input to be of a valid format\n",
    "    state = np.array(state).reshape(n, n) \n",
    "    \n",
    "    zero_tile_loc = tuple(*np.argwhere(state == 0))\n",
    "    tile_list = list(state.flatten())  \n",
    "\n",
    "    for i in range(n_tiles - 1):\n",
    "        for j in range(i+1, n_tiles):\n",
    "            if tile_list[j] and tile_list[i] and tile_list[i] > tile_list[j]:\n",
    "#                 print(tile_list[i], \"is larger than\", tile_list[j])\n",
    "                inversion_count += 1\n",
    "                \n",
    "    # Different scenarios for solvability.\n",
    "    if (n % 2 != 0) and (inversion_count % 2 == 0):\n",
    "        return(True)\n",
    "    elif (n % 2 == 0) and (zero_tile_loc[0] % 2 != 0) and (inversion_count % 2 != 0):\n",
    "        return(True)\n",
    "    elif (n % 2 == 0) and (zero_tile_loc[0] % 2 == 0) and (inversion_count % 2 == 0):\n",
    "        return(True)\n",
    "    else:\n",
    "        return(False)"
   ]
  },
  {
   "cell_type": "code",
   "execution_count": 3,
   "metadata": {
    "ExecuteTime": {
     "end_time": "2020-02-21T23:53:13.706037Z",
     "start_time": "2020-02-21T23:53:13.684748Z"
    }
   },
   "outputs": [
    {
     "data": {
      "text/plain": [
       "True"
      ]
     },
     "execution_count": 3,
     "metadata": {},
     "output_type": "execute_result"
    }
   ],
   "source": [
    "solvable_puzzle = [[5,7,6],[2,4,3],[8,1,0]]\n",
    "solvability_test(solvable_puzzle)"
   ]
  },
  {
   "cell_type": "markdown",
   "metadata": {
    "deletable": false,
    "editable": false,
    "nbgrader": {
     "cell_type": "markdown",
     "checksum": "3582513581b2e5d1806ee2b1117ac019",
     "grade": false,
     "grade_id": "5bb4ce",
     "locked": true,
     "schema_version": 3,
     "solution": false
    }
   },
   "source": [
    "<h1>\n",
    "Question 1    \n",
    "</h1>\n",
    "Define your <code>PuzzleNode</code> class below.  Ensure that you include all attributes that you need to implement an A* search.  If you wish, you can even include member functions, such as a function to generate successor states.  Alternatively, you can code up this functionality later in the <code>solvePuzzle</code> function."
   ]
  },
  {
   "cell_type": "code",
   "execution_count": 4,
   "metadata": {
    "ExecuteTime": {
     "end_time": "2020-02-21T23:53:13.735153Z",
     "start_time": "2020-02-21T23:53:13.714491Z"
    },
    "deletable": false,
    "nbgrader": {
     "cell_type": "code",
     "checksum": "4326143183f9b58edcedbc64aed31100",
     "grade": false,
     "grade_id": "b5da05",
     "locked": false,
     "schema_version": 3,
     "solution": true,
     "task": false
    }
   },
   "outputs": [],
   "source": [
    "class PuzzleNode():\n",
    "    \"\"\"\n",
    "    Class PuzzleNode: Provides a structure for performing A* search\n",
    "    for the n^2-1 puzzle.\n",
    "    \n",
    "    Attribute note: \n",
    "        Takes the state as any input shape. This is later converted\n",
    "        to valid input (array) in the solvePuzzle function. \n",
    "    \"\"\"\n",
    "    def __init__(self, state, gcost = 0, fcost = 0, parent = None):\n",
    "\n",
    "        self.gcost = gcost    # current best path cost g()\n",
    "        self.fcost = fcost    # g() + estimated heuristic cost h()\n",
    "        self.parent = parent  # parent for retrieving final solution\n",
    "        self.state = state    # state of the puzzle at node n (arr)\n",
    "        \n",
    "        self.n = len(state)   # for print function\n",
    "        self.pruned = False   # indicates if node can be ignored during search\n",
    "    \n",
    "    # CLASS FUNCTIONS\n",
    "    # ---------------\n",
    "    def __str__(self):\n",
    "        \"\"\"\n",
    "        Returns the grid of the board state of a given node.\n",
    "        \"\"\"\n",
    "        return('\\n'.join([' '.join(['{:n}'.format(tile, str(self.n))\n",
    "                for tile in row]) for row in self.state]))\n",
    "    \n",
    "    \n",
    "    def __lt__(self, other):\n",
    "        \"\"\"\n",
    "        Used in the solvePuzzle function for comparing node costs.\n",
    "        \"\"\"\n",
    "        return self.fcost < other.fcost"
   ]
  },
  {
   "cell_type": "code",
   "execution_count": 5,
   "metadata": {
    "ExecuteTime": {
     "end_time": "2020-02-21T23:53:13.766516Z",
     "start_time": "2020-02-21T23:53:13.744355Z"
    }
   },
   "outputs": [],
   "source": [
    "test_state = [[0,1,2], [3,4,5], [6,7,8]]\n",
    "test_state_unsolved = [[1,0,2], [3,4,5], [6,7,8]]\n",
    "test_state_large = [[0,1,2,5], [3,4,5,5], [6,7,8,5], [2,3,4,5]]\n",
    "test_state_faulty = [[0,1,2], [3,4,5,5], [6,7,8,5], [2,3,4,5]]\n",
    "test_state_array = np.array([[0,1,2], [3,4,5], [6,7,8]])\n",
    "test_state_unsolved_difficult = [[1,2,5], [3,4,0], [6,7,8]]\n",
    "\n",
    "node = PuzzleNode(test_state_array)"
   ]
  },
  {
   "cell_type": "code",
   "execution_count": 6,
   "metadata": {
    "ExecuteTime": {
     "end_time": "2020-02-21T23:53:13.785533Z",
     "start_time": "2020-02-21T23:53:13.772634Z"
    }
   },
   "outputs": [
    {
     "name": "stdout",
     "output_type": "stream",
     "text": [
      "0 1 2\n",
      "3 4 5\n",
      "6 7 8\n"
     ]
    },
    {
     "data": {
      "text/plain": [
       "(0, 1, 2, 3, 4, 5, 6, 7, 8)"
      ]
     },
     "execution_count": 6,
     "metadata": {},
     "output_type": "execute_result"
    }
   ],
   "source": [
    "print(node.__str__())\n",
    "tuple(node.state.flatten())"
   ]
  },
  {
   "cell_type": "markdown",
   "metadata": {
    "deletable": false,
    "editable": false,
    "nbgrader": {
     "cell_type": "markdown",
     "checksum": "f523db3048f85be39ef3dc740b53fdba",
     "grade": false,
     "grade_id": "859d2c",
     "locked": true,
     "schema_version": 3,
     "solution": false
    }
   },
   "source": [
    "<h1>\n",
    "Question 2    \n",
    "</h1>\n",
    "Define your heuristic functions using the templates below.  Ensure that you extend the <code>heuristics</code> list to include all the heuristic functions you implement.  Note that state will be given as a list of lists, so ensure your function accepts this format.  You may use packages like numpy if you wish within the functions themselves."
   ]
  },
  {
   "cell_type": "code",
   "execution_count": 7,
   "metadata": {
    "ExecuteTime": {
     "end_time": "2020-02-21T23:53:13.812679Z",
     "start_time": "2020-02-21T23:53:13.789449Z"
    },
    "deletable": false,
    "nbgrader": {
     "cell_type": "code",
     "checksum": "686c6cabd6955171ad70aa6fd37d31a9",
     "grade": false,
     "grade_id": "3fb850",
     "locked": false,
     "schema_version": 3,
     "solution": true,
     "task": false
    }
   },
   "outputs": [],
   "source": [
    "# Misplaced tiles heuristic\n",
    "def h1(state):\n",
    "    \"\"\"\n",
    "    This function returns the number of misplaced tiles,\n",
    "    given the board state (excluding 0 tile).\n",
    "    \n",
    "    Input:\n",
    "        state (arr / lst) the board state as an n*n array. Converts the input\n",
    "        if it is given as a list of lists. Required.\n",
    "    \"\"\"\n",
    "    n = len(state)\n",
    "\n",
    "    #reshaping the input to be of a valid format\n",
    "    state = np.array(state).reshape(n,n)\n",
    "    \n",
    "    misplaced_tiles = [tile != i for i, tile in enumerate(state.flatten())]\n",
    "    return(sum(misplaced_tiles)-1)\n",
    "\n",
    "\n",
    "# Manhattan distance heuristic\n",
    "def h2(state):\n",
    "    \"\"\"\n",
    "    This function returns the Manhattan distance from the solved state,\n",
    "    given the board state. It does so by flattening the array and then\n",
    "    pairing each tile's coordinates with the \"correct\" coordinates. Then\n",
    "    it calculates the distance between them.\n",
    "    Adapted from: https://stackoverflow.com/questions/39759721/\n",
    "                  calculating-the-manhattan-distance-in-the-eight-puzzle?rq=1\n",
    "    \n",
    "    Input:\n",
    "        state (arr / lst) the board state as an n*n array. Converts the input\n",
    "        if it is given as a list of lists. Required.\n",
    "    \"\"\"\n",
    "    \n",
    "    #reshaping the input to be of a valid format\n",
    "    n_tiles = (len(state) ** 2)\n",
    "    n = len(state)\n",
    "    \n",
    "    state = np.array(state).reshape(n, n)\n",
    "        \n",
    "    cur_state = list(state.flatten())  \n",
    "    goal_state = list(range(n**2))\n",
    "        \n",
    "    manhattan_dist = [abs(b % n - g % n) + abs(b//n - g//n) for\n",
    "                      b, g in ((cur_state.index(i), goal_state.index(i)) for\n",
    "                      i in range(1, n_tiles))]\n",
    "        \n",
    "    return sum(manhattan_dist)\n",
    "    \n",
    "    \n",
    "# Linear Conflict Heuristic\n",
    "def h3(state):   # NOT IMPLEMENTED\n",
    "    \"\"\"\n",
    "    This function returns the linear conflict score, a heuristic that\n",
    "    dominates the Manhattan distance (it is always at least as large as the \n",
    "    Manhattan distance), given the board state.\n",
    "    \n",
    "    \"Two tiles tj and tk are in a linear conflict if tj and tk are\n",
    "    the same line, the goal positions of tj and tk are both in that\n",
    "    line, tj is to the right of tk , and goal position of tj is to\n",
    "    the left of the goal position of tk . Here line indicated both\n",
    "    rows and columns. The linear conflict heuristic is calculated as\n",
    "    Manhattan distance + 2*(Linear conflicts).\"\n",
    "    \n",
    "    Code adapted from: https://stackoverflow.com/a/43967750\n",
    "\n",
    "    Input:\n",
    "        state: the board state as a list of lists        \n",
    "    \"\"\"\n",
    "    linear_confl = 0\n",
    "    \n",
    "    # LINEAR CONFLICT ALGORITHM\n",
    "\n",
    "    return h2(state) + 2 * linear_confl\n",
    "    \n",
    "\n",
    "heuristics = [h1, h2, h3]"
   ]
  },
  {
   "cell_type": "markdown",
   "metadata": {
    "deletable": false,
    "editable": false,
    "nbgrader": {
     "cell_type": "markdown",
     "checksum": "591174c27300d0a4d4d96ee841e46810",
     "grade": false,
     "grade_id": "e224d9",
     "locked": true,
     "schema_version": 3,
     "solution": false
    }
   },
   "source": [
    "<h1>\n",
    "Question 3    \n",
    "</h1>\n",
    "Code up your A* search using the SolvePuzzle function within the template below.  Please do not modify the function header, otherwise the automated testing will fail.  You may define other functions or import packages as needed in this cell or by adding additional cells."
   ]
  },
  {
   "cell_type": "code",
   "execution_count": 8,
   "metadata": {
    "ExecuteTime": {
     "end_time": "2020-02-21T23:53:13.870751Z",
     "start_time": "2020-02-21T23:53:13.816797Z"
    },
    "deletable": false,
    "nbgrader": {
     "cell_type": "code",
     "checksum": "91dda09c4f5df1db4607bb3b82e81afd",
     "grade": false,
     "grade_id": "328d7b",
     "locked": false,
     "schema_version": 3,
     "solution": true
    }
   },
   "outputs": [],
   "source": [
    "# Import any packages or define any helper functions you need here\n",
    "from queue import PriorityQueue\n",
    "\n",
    "# Main solvePuzzle function.\n",
    "def solvePuzzle(state, heuristic=h1):\n",
    "    \"\"\"\n",
    "    This function should solve the n**2-1 puzzle for any n > 2\n",
    "    (although it may take too long for n > 4)).\n",
    "    \n",
    "    Inputs:\n",
    "        state (list) The initial state of the puzzle as a list of lists.\n",
    "        Required.\n",
    "        heuristic (str) a handle to a heuristic function. Required.\n",
    "        Options: [h1, h2, h3] (misplaced tiles, manhattan distance, XXX)\n",
    "        \n",
    "    Outputs:\n",
    "        steps (int) The number of steps to optimally solve the puzzle, \n",
    "                excluding the initial state.\n",
    "        expanded (int) The number of nodes expanded to reach the solution.\n",
    "        max_frontier (int) The maximum size of the frontier over the search.\n",
    "        opt_path (list) The optimal path as a list of list of lists.\n",
    "                opt_path[:,:,i] gives a list of lists that represents\n",
    "                the state of the board at step i of the solution.\n",
    "        err (str) An error code.  If state is not of the appropriate size\n",
    "                and dimension, return -1. If the state is not solvable,\n",
    "                returns -2.\n",
    "    \"\"\"\n",
    "    # INPUT TESTS\n",
    "    # -----------\n",
    "    #  To test for correct shape, we try to reshape the state from a list\n",
    "    #  of lists to an array. To check if the input is valid (generally),\n",
    "    #  we can then flatten & sort it & compare it to the goal state.\n",
    "    #  If either test fails, the input is incorrect.\n",
    "    # -----------\n",
    "    #  Extension 1 - Initial state solvability XXX\n",
    "    \n",
    "    n = len(state)\n",
    "    goal_state_flattened = list(range(n**2))\n",
    "\n",
    "    if not solvability_test(state):\n",
    "        print(\"This puzzle appears not solveable.\")\n",
    "        return(0, 0, 0, None, -2)\n",
    "    \n",
    "    try:\n",
    "        state = np.array(state).reshape(n, n)\n",
    "        # state is now a n*n array, no longer a list of lists!\n",
    "    except:\n",
    "        print(\"The input could not be shaped correctly.\")\n",
    "        return(0, 0, 0, None, -1)\n",
    "    \n",
    "    state_flattened = state.flatten()\n",
    "    if sorted(state_flattened) != goal_state_flattened:\n",
    "        print(\"Input invalid. Check your state for duplicates, please.\")\n",
    "        return(0, 0, 0, None, -1)\n",
    "    \n",
    "    \n",
    "    # SEARCH SETUP\n",
    "    # ------------\n",
    "    #  Sets the initial node to the start state, initiates the dictionary\n",
    "    #  for tracking search cost and generates the frontier.\n",
    "    # ------------\n",
    "\n",
    "    start_node = PuzzleNode(state, gcost = 0, fcost = heuristic(state))\n",
    "    costs_db = {tuple(start_node.state.flatten()): start_node}\n",
    "\n",
    "    # Frontier, stored as a Priority Queue to maintain ordering\n",
    "    frontier = PriorityQueue()\n",
    "    frontier.put(start_node)\n",
    "\n",
    "    # other variables\n",
    "    moves_orth = [(1,0),(0,1),(-1,0),(0,-1)]\n",
    "    expansion_counter = 0\n",
    "    frontier_max = 0\n",
    "    \n",
    "    \n",
    "    # SEARCH ALGORITHM\n",
    "    # ----------------\n",
    "    #  Generates possible future moves and appends them to the frontier\n",
    "    #  until a solution is found. The cost_bd keeps track of previously \n",
    "    #  explored states.\n",
    "    # ----------------\n",
    "\n",
    "    while not frontier.empty():\n",
    "        \n",
    "        # retrieving worst case frontier size\n",
    "        if frontier.qsize() > frontier_max:\n",
    "            frontier_max = frontier.qsize()\n",
    "\n",
    "        cur_node = frontier.get()\n",
    "        \n",
    "        if cur_node.pruned:\n",
    "            continue\n",
    "\n",
    "        # Goal check\n",
    "        if list(cur_node.state.flatten()) == goal_state_flattened:\n",
    "            print(\"Algorithm terminated at goal state.\")\n",
    "            break\n",
    "        \n",
    "        # find 0 tile\n",
    "        zero_tile = tuple(*np.argwhere(cur_node.state == 0))\n",
    "\n",
    "        # expand in the orthogonal direction to generate sucessor states\n",
    "        # avoiding states that would go outside the edges        \n",
    "        next_moves = [tuple( [sum(i) for i in zip(zero_tile, move)] )\n",
    "                      for move in moves_orth] \n",
    "        valid_moves = [i for i in next_moves if\n",
    "                       (0 <= i[0] < n and 0 <= i[1] < n)]\n",
    "        \n",
    "\n",
    "        for m in valid_moves:\n",
    "            gcost = cur_node.gcost + 1 # minimum cost for child\n",
    "    \n",
    "            # try the move by swapping 0 and non-0 tile\n",
    "            test_state = np.copy(cur_node.state)\n",
    "            z = zero_tile\n",
    "            test_state[z], test_state[m] = test_state[m], test_state[z]        \n",
    "\n",
    "            # If move is explored, update the path & mark for removal\n",
    "            if tuple(test_state.flatten()) in costs_db:\n",
    "                if costs_db[tuple(test_state.flatten())].gcost > gcost:\n",
    "                    costs_db[tuple(test_state.flatten())].pruned = True\n",
    "                else:\n",
    "                    continue \n",
    "            \n",
    "            # get heuristic cost from the node to the end and\n",
    "            # add the child to the frontier & cost database\n",
    "            hcost = heuristic(test_state) \n",
    "            next_node = PuzzleNode(test_state, gcost = gcost,\n",
    "                        fcost = gcost + hcost,  parent=cur_node)\n",
    "            \n",
    "            frontier.put(next_node)\n",
    "            costs_db[tuple(test_state.flatten())] = next_node \n",
    "            \n",
    "        expansion_counter = expansion_counter + 1\n",
    "\n",
    "    # RETRIEVING ALGORITHM INFO\n",
    "    # -------------------------\n",
    "    #  Reconstructs the path of the optimal solution and returns several\n",
    "    #  summary statistics of the algorithm to evaluate performance.\n",
    "    # -------------------------\n",
    "    \n",
    "    # reconstructing solution path\n",
    "    opt_path_nodes = []\n",
    "    solution_node = cur_node\n",
    "    \n",
    "    while solution_node:\n",
    "        opt_path_nodes.append(solution_node)\n",
    "        solution_node = solution_node.parent\n",
    "        \n",
    "    opt_path = []\n",
    "    \n",
    "    #reverses through the solution\n",
    "    for j, node in reversed(list(enumerate(opt_path_nodes))):\n",
    "        slot = len(opt_path_nodes) - 1 - j\n",
    "        opt_path.append(node.state.tolist())\n",
    "    \n",
    "    return (len(opt_path_nodes)-1, expansion_counter,\n",
    "            frontier_max, opt_path, 0)"
   ]
  },
  {
   "cell_type": "code",
   "execution_count": 9,
   "metadata": {
    "ExecuteTime": {
     "end_time": "2020-02-21T23:53:13.882674Z",
     "start_time": "2020-02-21T23:53:13.875324Z"
    }
   },
   "outputs": [],
   "source": [
    "working_puzzle = [[2,3,7],[1,8,0],[6,5,4]]"
   ]
  },
  {
   "cell_type": "code",
   "execution_count": 10,
   "metadata": {
    "ExecuteTime": {
     "end_time": "2020-02-21T23:53:14.131633Z",
     "start_time": "2020-02-21T23:53:13.887611Z"
    }
   },
   "outputs": [
    {
     "name": "stdout",
     "output_type": "stream",
     "text": [
      "Algorithm terminated at goal state.\n",
      "17 728 436 0\n"
     ]
    }
   ],
   "source": [
    "steps, exp, max_frontier, opt_path, err = solvePuzzle(working_puzzle)\n",
    "print(steps, exp, max_frontier, err)"
   ]
  },
  {
   "cell_type": "markdown",
   "metadata": {
    "deletable": false,
    "editable": false,
    "nbgrader": {
     "cell_type": "markdown",
     "checksum": "c89ea5c4d80cc73d321b4d15a043e8b7",
     "grade": false,
     "grade_id": "fb9ccd",
     "locked": true,
     "schema_version": 3,
     "solution": false
    }
   },
   "source": [
    "<h1>Basic Functionality Tests</h1>\n",
    "The cells below contain tests to verify that your code is working properly to be classified as basically functional.  Please note that a grade of <b>3</b> on #aicoding and #search as applicable for each test requires the test to be successfully passed.  <b>If you want to demonstrate some other aspect of your code, then feel free to add additional cells with test code and document what they do.<b>"
   ]
  },
  {
   "cell_type": "code",
   "execution_count": 11,
   "metadata": {
    "ExecuteTime": {
     "end_time": "2020-02-21T23:53:14.145503Z",
     "start_time": "2020-02-21T23:53:14.135547Z"
    },
    "deletable": false,
    "editable": false,
    "nbgrader": {
     "cell_type": "code",
     "checksum": "f8d927b41dc95f7b76d81ed7f6cd13ec",
     "grade": true,
     "grade_id": "8fbc24",
     "locked": true,
     "points": 1,
     "schema_version": 3,
     "solution": false
    }
   },
   "outputs": [
    {
     "name": "stdout",
     "output_type": "stream",
     "text": [
      "Input invalid. Check your state for duplicates, please.\n"
     ]
    }
   ],
   "source": [
    "## Test for state not correctly defined\n",
    "\n",
    "incorrect_state = [[0,1,2],[2,3,4],[5,6,7]]\n",
    "_,_,_,_,err = solvePuzzle(incorrect_state, lambda state: 0)\n",
    "assert(err == -1)"
   ]
  },
  {
   "cell_type": "code",
   "execution_count": 12,
   "metadata": {
    "ExecuteTime": {
     "end_time": "2020-02-21T23:53:14.160666Z",
     "start_time": "2020-02-21T23:53:14.149077Z"
    },
    "deletable": false,
    "editable": false,
    "nbgrader": {
     "cell_type": "code",
     "checksum": "005a7a99916dafeb7180172c66365597",
     "grade": true,
     "grade_id": "cell-5738a2124877e52e",
     "locked": true,
     "points": 2,
     "schema_version": 3,
     "solution": false,
     "task": false
    }
   },
   "outputs": [],
   "source": [
    "## Heuristic function tests for misplaced tiles and manhattan distance\n",
    "\n",
    "# Define the working initial states\n",
    "working_initial_states_8_puzzle = ([[2,3,7],[1,8,0],[6,5,4]], [[7,0,8],[4,6,1],[5,3,2]], [[5,7,6],[2,4,3],[8,1,0]])\n",
    "\n",
    "# Test the values returned by the heuristic functions\n",
    "h_mt_vals = [7,8,7]\n",
    "h_man_vals = [15,17,18]\n",
    "\n",
    "for i in range(0,3):\n",
    "    h_mt = heuristics[0](working_initial_states_8_puzzle[i])\n",
    "    h_man = heuristics[1](working_initial_states_8_puzzle[i])\n",
    "    assert(h_mt == h_mt_vals[i])\n",
    "    assert(h_man == h_man_vals[i])\n"
   ]
  },
  {
   "cell_type": "code",
   "execution_count": 13,
   "metadata": {
    "ExecuteTime": {
     "end_time": "2020-02-21T23:53:30.481698Z",
     "start_time": "2020-02-21T23:53:14.164338Z"
    },
    "deletable": false,
    "editable": false,
    "nbgrader": {
     "cell_type": "code",
     "checksum": "293094319e63d67c5f6d94cd7aee0c02",
     "grade": true,
     "grade_id": "cell-99c07d9541559b52",
     "locked": true,
     "points": 4,
     "schema_version": 3,
     "solution": false,
     "task": false
    }
   },
   "outputs": [
    {
     "name": "stdout",
     "output_type": "stream",
     "text": [
      "Algorithm terminated at goal state.\n",
      "Algorithm terminated at goal state.\n",
      "Algorithm terminated at goal state.\n",
      "Algorithm terminated at goal state.\n",
      "Algorithm terminated at goal state.\n",
      "Algorithm terminated at goal state.\n"
     ]
    }
   ],
   "source": [
    "## A* Tests for 3 x 3 boards\n",
    "## This test runs A* with both heuristics and ensures that the same optimal number of steps are found\n",
    "## with each heuristic.\n",
    "\n",
    "# Optimal path to the solution for the first 3 x 3 state\n",
    "opt_path_soln = [[[2, 3, 7], [1, 8, 0], [6, 5, 4]], [[2, 3, 7], [1, 8, 4], [6, 5, 0]], \n",
    "                 [[2, 3, 7], [1, 8, 4], [6, 0, 5]], [[2, 3, 7], [1, 0, 4], [6, 8, 5]], \n",
    "                 [[2, 0, 7], [1, 3, 4], [6, 8, 5]], [[0, 2, 7], [1, 3, 4], [6, 8, 5]], \n",
    "                 [[1, 2, 7], [0, 3, 4], [6, 8, 5]], [[1, 2, 7], [3, 0, 4], [6, 8, 5]], \n",
    "                 [[1, 2, 7], [3, 4, 0], [6, 8, 5]], [[1, 2, 0], [3, 4, 7], [6, 8, 5]], \n",
    "                 [[1, 0, 2], [3, 4, 7], [6, 8, 5]], [[1, 4, 2], [3, 0, 7], [6, 8, 5]], \n",
    "                 [[1, 4, 2], [3, 7, 0], [6, 8, 5]], [[1, 4, 2], [3, 7, 5], [6, 8, 0]], \n",
    "                 [[1, 4, 2], [3, 7, 5], [6, 0, 8]], [[1, 4, 2], [3, 0, 5], [6, 7, 8]], \n",
    "                 [[1, 0, 2], [3, 4, 5], [6, 7, 8]], [[0, 1, 2], [3, 4, 5], [6, 7, 8]]]\n",
    "\n",
    "astar_steps = [17, 25, 28]\n",
    "for i in range(0,3):\n",
    "    steps_mt, expansions_mt, _, opt_path_mt, _ = solvePuzzle(working_initial_states_8_puzzle[i], heuristics[0])\n",
    "    steps_man, expansions_man, _, opt_path_man, _ = solvePuzzle(working_initial_states_8_puzzle[i], heuristics[1])\n",
    "    # Test whether the number of optimal steps is correct and the same\n",
    "    assert(steps_mt == steps_man == astar_steps[i])\n",
    "    # Test whether or not the manhattan distance dominates the misplaced tiles heuristic in every case\n",
    "    assert(expansions_man < expansions_mt)\n",
    "    # For the first state, test that the optimal path is the same\n",
    "    if i == 0:\n",
    "        assert(opt_path_mt == opt_path_soln)\n"
   ]
  },
  {
   "cell_type": "code",
   "execution_count": 14,
   "metadata": {
    "ExecuteTime": {
     "end_time": "2020-02-21T23:53:30.510847Z",
     "start_time": "2020-02-21T23:53:30.485566Z"
    },
    "deletable": false,
    "editable": false,
    "nbgrader": {
     "cell_type": "code",
     "checksum": "94ad7f950f87fcc281af1f3946c4e196",
     "grade": true,
     "grade_id": "cell-2981ba2cc7745c22",
     "locked": true,
     "points": 8,
     "schema_version": 3,
     "solution": false,
     "task": false
    }
   },
   "outputs": [
    {
     "name": "stdout",
     "output_type": "stream",
     "text": [
      "Algorithm terminated at goal state.\n",
      "Algorithm terminated at goal state.\n"
     ]
    }
   ],
   "source": [
    "## A* Test for 4 x 4 board\n",
    "## This test runs A* with both heuristics and ensures that the same optimal number of steps are found\n",
    "## with each heuristic.\n",
    "\n",
    "working_initial_state_15_puzzle = [[1,2,6,3],[0,9,5,7],[4,13,10,11],[8,12,14,15]]\n",
    "steps_mt, expansions_mt, _, _, _ = solvePuzzle(working_initial_state_15_puzzle, heuristics[0])\n",
    "steps_man, expansions_man, _, _, _ = solvePuzzle(working_initial_state_15_puzzle, heuristics[1])\n",
    "# Test whether the number of optimal steps is correct and the same\n",
    "assert(steps_mt == steps_man == 9)\n",
    "# Test whether or not the manhattan distance dominates the misplaced tiles heuristic in every case\n",
    "assert(expansions_mt >= expansions_man)"
   ]
  },
  {
   "cell_type": "markdown",
   "metadata": {
    "deletable": false,
    "editable": false,
    "nbgrader": {
     "cell_type": "markdown",
     "checksum": "7251e4aad7b1e19b42a78e54d8e7b920",
     "grade": false,
     "grade_id": "cell-2c262efb90518641",
     "locked": true,
     "schema_version": 3,
     "solution": false,
     "task": false
    }
   },
   "source": [
    "<h1>Extension Tests</h1>\n",
    "The cells below can be used to test the extension questions.  Memoization if implemented will be tested on the final submission - you can test it yourself by testing the execution time of the heuristic functions with and without it."
   ]
  },
  {
   "cell_type": "code",
   "execution_count": 15,
   "metadata": {
    "ExecuteTime": {
     "end_time": "2020-02-21T23:53:30.535545Z",
     "start_time": "2020-02-21T23:53:30.517221Z"
    },
    "deletable": false,
    "editable": false,
    "nbgrader": {
     "cell_type": "code",
     "checksum": "efc4b74c95e814a4fb07d2c5ed26f337",
     "grade": true,
     "grade_id": "cell-21cada9978e9a1bb",
     "locked": true,
     "points": 16,
     "schema_version": 3,
     "solution": false,
     "task": false
    }
   },
   "outputs": [
    {
     "name": "stdout",
     "output_type": "stream",
     "text": [
      "This puzzle appears not solveable.\n"
     ]
    }
   ],
   "source": [
    "## Puzzle solvability test\n",
    "\n",
    "unsolvable_initial_state = [[7,5,6],[2,4,3],[8,1,0]]\n",
    "_,_,_,_,err = solvePuzzle(unsolvable_initial_state, lambda state: 0)\n",
    "assert(err == -2)"
   ]
  },
  {
   "cell_type": "code",
   "execution_count": 16,
   "metadata": {
    "ExecuteTime": {
     "end_time": "2020-02-21T23:53:31.896146Z",
     "start_time": "2020-02-21T23:53:30.540725Z"
    },
    "deletable": false,
    "editable": false,
    "nbgrader": {
     "cell_type": "code",
     "checksum": "9b7ebb02bcf675ab3a5157eaa1155763",
     "grade": true,
     "grade_id": "cell-8c7a414efc152379",
     "locked": true,
     "points": 32,
     "schema_version": 3,
     "solution": false,
     "task": false
    }
   },
   "outputs": [
    {
     "name": "stdout",
     "output_type": "stream",
     "text": [
      "Algorithm terminated at goal state.\n",
      "Algorithm terminated at goal state.\n",
      "Algorithm terminated at goal state.\n",
      "Algorithm terminated at goal state.\n",
      "Algorithm terminated at goal state.\n",
      "Algorithm terminated at goal state.\n"
     ]
    },
    {
     "ename": "AssertionError",
     "evalue": "",
     "output_type": "error",
     "traceback": [
      "\u001b[0;31m---------------------------------------------------------------------------\u001b[0m",
      "\u001b[0;31mAssertionError\u001b[0m                            Traceback (most recent call last)",
      "\u001b[0;32m<ipython-input-16-527f5e8bbbf2>\u001b[0m in \u001b[0;36m<module>\u001b[0;34m\u001b[0m\n\u001b[1;32m     11\u001b[0m     \u001b[0;31m# the number of nodes expanded\u001b[0m\u001b[0;34m\u001b[0m\u001b[0;34m\u001b[0m\u001b[0;34m\u001b[0m\u001b[0m\n\u001b[1;32m     12\u001b[0m     \u001b[0mdom\u001b[0m \u001b[0;34m=\u001b[0m \u001b[0mexpansions_man\u001b[0m \u001b[0;34m-\u001b[0m \u001b[0mexpansions_new\u001b[0m\u001b[0;34m\u001b[0m\u001b[0;34m\u001b[0m\u001b[0m\n\u001b[0;32m---> 13\u001b[0;31m \u001b[0;32massert\u001b[0m\u001b[0;34m(\u001b[0m\u001b[0mdom\u001b[0m \u001b[0;34m>\u001b[0m \u001b[0;36m0\u001b[0m\u001b[0;34m)\u001b[0m\u001b[0;34m\u001b[0m\u001b[0;34m\u001b[0m\u001b[0m\n\u001b[0m",
      "\u001b[0;31mAssertionError\u001b[0m: "
     ]
    }
   ],
   "source": [
    "## Extra heuristic function test.  \n",
    "## This tests that for all initial conditions, the new heuristic dominates over the manhattan distance.\n",
    "\n",
    "dom = 0\n",
    "for i in range(0,3):\n",
    "    steps_new, expansions_new, _, _, _ = solvePuzzle(working_initial_states_8_puzzle[i], heuristics[2])\n",
    "    steps_man, expansions_man, _, _, _ = solvePuzzle(working_initial_states_8_puzzle[i], heuristics[1])\n",
    "    # Test whether the number of optimal steps is correct and the same\n",
    "    assert(steps_new == steps_man == astar_steps[i])\n",
    "    # Test whether or not the manhattan distance is dominated by the new heuristic in every case, by checking\n",
    "    # the number of nodes expanded\n",
    "    dom = expansions_man - expansions_new\n",
    "assert(dom > 0)"
   ]
  },
  {
   "cell_type": "code",
   "execution_count": null,
   "metadata": {
    "ExecuteTime": {
     "end_time": "2020-02-21T23:53:31.923364Z",
     "start_time": "2020-02-21T23:53:13.616Z"
    },
    "deletable": false,
    "editable": false,
    "nbgrader": {
     "cell_type": "code",
     "checksum": "af551e00bc8334100b7cf901ece597a2",
     "grade": true,
     "grade_id": "cell-09f710b6aa2e3fa3",
     "locked": true,
     "points": 64,
     "schema_version": 3,
     "solution": false,
     "task": false
    }
   },
   "outputs": [],
   "source": [
    "## Memoization test - will be carried out after submission"
   ]
  }
 ],
 "metadata": {
  "kernelspec": {
   "display_name": "Python 3",
   "language": "python",
   "name": "python3"
  },
  "language_info": {
   "codemirror_mode": {
    "name": "ipython",
    "version": 3
   },
   "file_extension": ".py",
   "mimetype": "text/x-python",
   "name": "python",
   "nbconvert_exporter": "python",
   "pygments_lexer": "ipython3",
   "version": "3.7.2"
  },
  "toc": {
   "base_numbering": 1,
   "nav_menu": {},
   "number_sections": true,
   "sideBar": true,
   "skip_h1_title": false,
   "title_cell": "Table of Contents",
   "title_sidebar": "Contents",
   "toc_cell": true,
   "toc_position": {},
   "toc_section_display": true,
   "toc_window_display": false
  },
  "varInspector": {
   "cols": {
    "lenName": 16,
    "lenType": 16,
    "lenVar": 40
   },
   "kernels_config": {
    "python": {
     "delete_cmd_postfix": "",
     "delete_cmd_prefix": "del ",
     "library": "var_list.py",
     "varRefreshCmd": "print(var_dic_list())"
    },
    "r": {
     "delete_cmd_postfix": ") ",
     "delete_cmd_prefix": "rm(",
     "library": "var_list.r",
     "varRefreshCmd": "cat(var_dic_list()) "
    }
   },
   "types_to_exclude": [
    "module",
    "function",
    "builtin_function_or_method",
    "instance",
    "_Feature"
   ],
   "window_display": false
  }
 },
 "nbformat": 4,
 "nbformat_minor": 1
}
