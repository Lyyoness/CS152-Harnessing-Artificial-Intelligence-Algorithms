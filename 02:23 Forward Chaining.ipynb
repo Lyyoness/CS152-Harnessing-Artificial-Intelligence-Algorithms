{
 "cells": [
  {
   "cell_type": "markdown",
   "metadata": {
    "toc": true
   },
   "source": [
    "<h1>Table of Contents<span class=\"tocSkip\"></span></h1>\n",
    "<div class=\"toc\"><ul class=\"toc-item\"><li><span><a href=\"#Forward-Chaining-Algorithm\" data-toc-modified-id=\"Forward-Chaining-Algorithm-1\"><span class=\"toc-item-num\">1&nbsp;&nbsp;</span>Forward Chaining Algorithm</a></span><ul class=\"toc-item\"><li><span><a href=\"#Symbol-and-Clause-Class\" data-toc-modified-id=\"Symbol-and-Clause-Class-1.1\"><span class=\"toc-item-num\">1.1&nbsp;&nbsp;</span>Symbol and Clause Class</a></span></li></ul></li></ul></div>"
   ]
  },
  {
   "cell_type": "markdown",
   "metadata": {},
   "source": [
    "## Forward Chaining Algorithm"
   ]
  },
  {
   "cell_type": "markdown",
   "metadata": {},
   "source": [
    "Implement a forward chaining solver in Python for ascertaining the truth of a symbol given a knowledge base of definite clauses, following the algorithm in Fig 7.15 of Russell & Norvig. You could implement a class called **Symbol** to represent a logical symbol, as well as a class called **DefiniteClause** to represent the structure of a definite clause, with a premise set (the body of the clause) and a symbol for the conclusion (the head of the clause). A knowledge base can then be represented as a list of definite clauses. "
   ]
  },
  {
   "cell_type": "markdown",
   "metadata": {},
   "source": [
    "The pseudo-code from the exercise is the following:"
   ]
  },
  {
   "cell_type": "raw",
   "metadata": {},
   "source": [
    "function PL-FC-ENTAILS?(KB, q) returns true or false\n",
    "    inputs:\n",
    "    KB, the knowledge base, a set of propositional definite clauses\n",
    "    q, the query, a proposition symbol\n",
    "\n",
    "count ← a table, where count [c] is the number of symbols in c’s premise\n",
    "inferred ← a table,where inferred[s] is initially false for all symbols\n",
    "agenda ← a queue of symbols, initially symbols known to be true in KB\n",
    "\n",
    "\n",
    "while agenda is not empty do\n",
    "    p←POP(agenda)\n",
    "    if p = q then return true\n",
    "    if inferred[p] = false then\n",
    "        inferred[p]←true\n",
    "        for each clause c in KB where p is in c.PREMISE do\n",
    "            decrement count [c]\n",
    "            if count [c] = 0 then add c.CONCLUSION to agenda\n",
    "return false"
   ]
  },
  {
   "cell_type": "markdown",
   "metadata": {
    "ExecuteTime": {
     "end_time": "2020-02-26T00:06:23.609591Z",
     "start_time": "2020-02-26T00:06:23.605402Z"
    }
   },
   "source": [
    "### Symbol and Clause Class"
   ]
  },
  {
   "cell_type": "code",
   "execution_count": 5,
   "metadata": {
    "ExecuteTime": {
     "end_time": "2020-03-05T01:02:30.191977Z",
     "start_time": "2020-03-05T01:02:30.176236Z"
    }
   },
   "outputs": [],
   "source": [
    "class DC():\n",
    "    \"\"\"\n",
    "    Represents the structure of a Definite Clause.\n",
    "    \"\"\"\n",
    "    def __init__(self, conclusion, premises = []):\n",
    "        self.head = conclusion\n",
    "        self.body = set()\n",
    "        self.addPremises(premises)\n",
    "          \n",
    "    def addPremises(self, premises = []):\n",
    "        \n",
    "        for premise in premises:\n",
    "            self.body.add(premise)\n",
    "                    \n",
    "            \n",
    "def ForwardChaining(KB, q):\n",
    "    count = [len(clause.body) for clause in KB]\n",
    "    inferred = {symbol: False for symbol in set([s for clause in KB for s in clause.body] \n",
    "                + [clause.head for clause in KB])}\n",
    "    agenda = [clause.head for clause in KB]\n",
    "    \n",
    "    while agenda:\n",
    "        p = agenda.pop()\n",
    "        if p == q:\n",
    "            return True \n",
    "        if inferred[p] == False: \n",
    "            inferred[p] = True\n",
    "            for i, clause in enumerate(KB):\n",
    "                if p in clause.body: \n",
    "                    count[i] -= 1\n",
    "                    if count[i] == 0: \n",
    "                        agenda.append(clause.head)                    \n",
    "    return False"
   ]
  },
  {
   "cell_type": "code",
   "execution_count": 6,
   "metadata": {
    "ExecuteTime": {
     "end_time": "2020-03-05T01:02:31.780980Z",
     "start_time": "2020-03-05T01:02:31.769743Z"
    }
   },
   "outputs": [
    {
     "name": "stdout",
     "output_type": "stream",
     "text": [
      "True\n"
     ]
    }
   ],
   "source": [
    "#testing on the preclass readings example\n",
    "KB = [DC(\"Q\", [\"P\"]),\n",
    "      DC(\"P\", [\"L\", \"M\"]),\n",
    "      DC(\"M\", [\"B\", \"L\"]),\n",
    "      DC(\"L\", [\"A\", \"P\"]),\n",
    "      DC(\"L\", [\"A\", \"B\"]),\n",
    "      DC(\"A\"),\n",
    "      DC(\"B\")]\n",
    "\n",
    "print(ForwardChaining(KB, \"Q\"))"
   ]
  }
 ],
 "metadata": {
  "kernelspec": {
   "display_name": "Python 3",
   "language": "python",
   "name": "python3"
  },
  "language_info": {
   "codemirror_mode": {
    "name": "ipython",
    "version": 3
   },
   "file_extension": ".py",
   "mimetype": "text/x-python",
   "name": "python",
   "nbconvert_exporter": "python",
   "pygments_lexer": "ipython3",
   "version": "3.7.2"
  },
  "toc": {
   "base_numbering": 1,
   "nav_menu": {},
   "number_sections": true,
   "sideBar": true,
   "skip_h1_title": false,
   "title_cell": "Table of Contents",
   "title_sidebar": "Contents",
   "toc_cell": true,
   "toc_position": {},
   "toc_section_display": true,
   "toc_window_display": false
  },
  "varInspector": {
   "cols": {
    "lenName": 16,
    "lenType": 16,
    "lenVar": 40
   },
   "kernels_config": {
    "python": {
     "delete_cmd_postfix": "",
     "delete_cmd_prefix": "del ",
     "library": "var_list.py",
     "varRefreshCmd": "print(var_dic_list())"
    },
    "r": {
     "delete_cmd_postfix": ") ",
     "delete_cmd_prefix": "rm(",
     "library": "var_list.r",
     "varRefreshCmd": "cat(var_dic_list()) "
    }
   },
   "types_to_exclude": [
    "module",
    "function",
    "builtin_function_or_method",
    "instance",
    "_Feature"
   ],
   "window_display": false
  }
 },
 "nbformat": 4,
 "nbformat_minor": 2
}
