{
 "cells": [
  {
   "cell_type": "markdown",
   "metadata": {
    "toc": true
   },
   "source": [
    "<h1>Table of Contents<span class=\"tocSkip\"></span></h1>\n",
    "<div class=\"toc\"><ul class=\"toc-item\"><li><span><a href=\"#Breadth-First-Search-in-Python\" data-toc-modified-id=\"Breadth-First-Search-in-Python-1\"><span class=\"toc-item-num\">1&nbsp;&nbsp;</span>Breadth-First Search in Python</a></span></li><li><span><a href=\"#Depth-first-Search\" data-toc-modified-id=\"Depth-first-Search-2\"><span class=\"toc-item-num\">2&nbsp;&nbsp;</span>Depth-first Search</a></span></li></ul></div>"
   ]
  },
  {
   "cell_type": "markdown",
   "metadata": {},
   "source": [
    "# Breadth-First Search in Python"
   ]
  },
  {
   "cell_type": "markdown",
   "metadata": {},
   "source": [
    "**You are required to solve the following search problem in Python using a breadth-first approach, by adding in code at the places marked \"insert code here\"**\n",
    "\n",
    "* Each state is represented by an integer\n",
    "\n",
    "* For a state k, the two successor states are 2k and 2k+1 (in this order)\n",
    "\n",
    "* Starting at initial state 1, the goal is to reach state 1024.\n",
    "\n",
    "This code makes use of the class <code>deque</code> in the <code>collections package</code>.  You may need to look up the appropriate member functions to add and remove frontier elements."
   ]
  },
  {
   "cell_type": "code",
   "execution_count": 8,
   "metadata": {
    "ExecuteTime": {
     "end_time": "2020-01-21T08:22:36.570120Z",
     "start_time": "2020-01-21T08:22:36.557934Z"
    }
   },
   "outputs": [
    {
     "name": "stdout",
     "output_type": "stream",
     "text": [
      "Breadth-first search terminated after 1024 steps\n",
      "\n",
      "Size of frontier at termination is 1023\n"
     ]
    }
   ],
   "source": [
    "# [INSERT CODE HERE] Initial state\n",
    "state = 1\n",
    "\n",
    "# [INSERT CODE HERE] Define the goal here\n",
    "goal = 1024\n",
    "\n",
    "# Frontier\n",
    "from collections import deque\n",
    "frontier = deque([state])\n",
    "\n",
    "\n",
    "# Step counter\n",
    "steps = 0\n",
    "\n",
    "\n",
    "# Breadth-first search algorithm (continue while there are nodes in the frontier)\n",
    "while frontier:\n",
    "    # [INSERT CODE HERE] Implement a breadth-first search to reach the goal state from the initial state.\n",
    "    # The search should terminate once the goal is reached.\n",
    "    # Remember to increment the step counter to keep track of how many steps the search takes!\n",
    "    \n",
    "    #expand next state\n",
    "    next_state = frontier.popleft()\n",
    "    steps += 1\n",
    "    \n",
    "    #goal test upon generating a node\n",
    "    if next_state == goal:\n",
    "        break\n",
    "    else:\n",
    "        #expand the node and add it to the frontier \n",
    "        children = [2*next_state, 2*next_state+1]\n",
    "        \n",
    "        #our queue is a FIFO queue\n",
    "        #adding to queue\n",
    "        for child in children:\n",
    "            frontier.append(child)    \n",
    "\n",
    "    \n",
    "# [INSERT CODE HERE] Find the length of the frontier by changing the line below.\n",
    "frontier_size = len(frontier)\n",
    "    \n",
    "\n",
    "print(\"Breadth-first search terminated after %d steps\\n\" % steps)\n",
    "print(\"Size of frontier at termination is %d\" % frontier_size)"
   ]
  },
  {
   "cell_type": "markdown",
   "metadata": {},
   "source": [
    "# Depth-first Search\n",
    "Doing this just because I am curious how much faster this would be. Note that I had to modify the goal to be >= 1024, otherwise the depth-first algorithm will simply keep generating bigger and bigger numbers indefinitely."
   ]
  },
  {
   "cell_type": "code",
   "execution_count": 10,
   "metadata": {
    "ExecuteTime": {
     "end_time": "2020-01-21T08:25:22.828059Z",
     "start_time": "2020-01-21T08:25:19.107717Z"
    }
   },
   "outputs": [
    {
     "name": "stdout",
     "output_type": "stream",
     "text": [
      "Depth-first search terminated after 11 steps\n",
      "\n",
      "Size of frontier at termination is 10\n"
     ]
    }
   ],
   "source": [
    "# [INSERT CODE HERE] Initial state\n",
    "state = 1\n",
    "\n",
    "# [INSERT CODE HERE] Define the goal here\n",
    "goal = 1024\n",
    "\n",
    "# Frontier\n",
    "from collections import deque\n",
    "frontier = deque([state])\n",
    "\n",
    "\n",
    "# Step counter\n",
    "steps = 0\n",
    "\n",
    "\n",
    "# Depth-first search algorithm (continue while there are nodes in the frontier)\n",
    "while frontier:\n",
    "    # [INSERT CODE HERE] Implement a breadth-first search to reach the goal state from the initial state.\n",
    "    # The search should terminate once the goal is reached.\n",
    "    # Remember to increment the step counter to keep track of how many steps the search takes!\n",
    "    \n",
    "    #expand next state\n",
    "    #our queue is a LIFO queue now!!\n",
    "    next_state = frontier.pop()\n",
    "    steps += 1\n",
    "    \n",
    "    #goal test upon generating a node\n",
    "    if next_state >= goal:\n",
    "        break\n",
    "    else:\n",
    "        #expand the node and add it to the frontier \n",
    "        children = [2*next_state, 2*next_state+1]\n",
    "        \n",
    "        #adding to queue\n",
    "        for child in children:\n",
    "            frontier.append(child)    \n",
    "\n",
    "    \n",
    "# [INSERT CODE HERE] Find the length of the frontier by changing the line below.\n",
    "frontier_size = len(frontier)\n",
    "    \n",
    "\n",
    "print(\"Depth-first search terminated after %d steps\\n\" % steps)\n",
    "print(\"Size of frontier at termination is %d\" % frontier_size)"
   ]
  }
 ],
 "metadata": {
  "kernelspec": {
   "display_name": "Python 3",
   "language": "python",
   "name": "python3"
  },
  "language_info": {
   "codemirror_mode": {
    "name": "ipython",
    "version": 3
   },
   "file_extension": ".py",
   "mimetype": "text/x-python",
   "name": "python",
   "nbconvert_exporter": "python",
   "pygments_lexer": "ipython3",
   "version": "3.7.2"
  },
  "toc": {
   "base_numbering": 1,
   "nav_menu": {},
   "number_sections": true,
   "sideBar": true,
   "skip_h1_title": false,
   "title_cell": "Table of Contents",
   "title_sidebar": "Contents",
   "toc_cell": true,
   "toc_position": {},
   "toc_section_display": true,
   "toc_window_display": false
  },
  "varInspector": {
   "cols": {
    "lenName": 16,
    "lenType": 16,
    "lenVar": 40
   },
   "kernels_config": {
    "python": {
     "delete_cmd_postfix": "",
     "delete_cmd_prefix": "del ",
     "library": "var_list.py",
     "varRefreshCmd": "print(var_dic_list())"
    },
    "r": {
     "delete_cmd_postfix": ") ",
     "delete_cmd_prefix": "rm(",
     "library": "var_list.r",
     "varRefreshCmd": "cat(var_dic_list()) "
    }
   },
   "types_to_exclude": [
    "module",
    "function",
    "builtin_function_or_method",
    "instance",
    "_Feature"
   ],
   "window_display": false
  }
 },
 "nbformat": 4,
 "nbformat_minor": 2
}
